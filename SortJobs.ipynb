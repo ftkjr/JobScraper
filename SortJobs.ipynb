{
 "metadata": {
  "language_info": {
   "codemirror_mode": {
    "name": "ipython",
    "version": 3
   },
   "file_extension": ".py",
   "mimetype": "text/x-python",
   "name": "python",
   "nbconvert_exporter": "python",
   "pygments_lexer": "ipython3",
   "version": "3.8.5-final"
  },
  "orig_nbformat": 2,
  "kernelspec": {
   "name": "python3",
   "display_name": "Python 3.8.5 64-bit ('ResumeAnalysis': conda)",
   "metadata": {
    "interpreter": {
     "hash": "26e0d223c6b652543b86b5d5c5ffe1a4b96a31867acf239f8943a157f7dfbe3b"
    }
   }
  }
 },
 "nbformat": 4,
 "nbformat_minor": 2,
 "cells": [
  {
   "cell_type": "code",
   "execution_count": 2,
   "metadata": {},
   "outputs": [],
   "source": [
    "import pandas as pd\n",
    "import time\n",
    "import re\n",
    "from nltk import *\n",
    "from nltk.collocations import BigramCollocationFinder, TrigramCollocationFinder\n",
    "from nltk.metrics import BigramAssocMeasures, TrigramAssocMeasures\n",
    "from nltk.corpus import stopwords\n",
    "from IPython.display import clear_output\n",
    "import numpy\n",
    "import matplotlib.pyplot as plt\n"
   ]
  },
  {
   "source": [
    "## Initialize empty job index containers.\n",
    "These take the index position of the jobs in the data frame. Later they are used to form yes, no, and undequalified labels to train an algorithm."
   ],
   "cell_type": "markdown",
   "metadata": {}
  },
  {
   "cell_type": "code",
   "execution_count": 232,
   "metadata": {},
   "outputs": [],
   "source": [
    "##################################################################\n",
    "#                                                                #\n",
    "# MAKE SURE PREVIOUS DATA HAS BEEN WRITTEN BEFORE CLEARING !!!!! #\n",
    "#                                                                #\n",
    "##################################################################\n",
    "yes = []\n",
    "no = []\n",
    "underqualified = []\n",
    "other = []"
   ]
  },
  {
   "cell_type": "code",
   "execution_count": 150,
   "metadata": {},
   "outputs": [],
   "source": [
    "def sort_jobs(df, posting_number):\n",
    "    \"\"\"Prompt user for response, use the response to place posting_number into an array\"\"\"\n",
    "    job_status = input('Is this a job you would want to apply to? (y/n/u/o) \\nu is yes but underqualified, o is none of the above.')\n",
    "    if job_status.lower() in ['yes', 'yeah', 'y']:\n",
    "        yes.append(posting_number)\n",
    "        print(f\"https://www.monster.com/jobs/search/?q=Data-Scientist&jobid={df.jobid[posting_number]}\")\n",
    "    elif job_status.lower() in ['no', 'nah', 'n']:\n",
    "        no.append(posting_number)\n",
    "    elif job_status.lower() in ['maybe', 'm', 'other', 'o']:\n",
    "        other.append(posting_number)\n",
    "    elif job_status.lower() in ['underqualified', 'u']:\n",
    "        underqualified.append(posting_number)\n",
    "    elif job_status.lower() == 'ty':\n",
    "        yes_test.append(posting_number)\n",
    "    elif job_status.lower() == 'tn':\n",
    "        no_test.append(posting_number)\n",
    "\n",
    "def job_post_info(posting_number: int, df = df, n_results_per: int = 10, sorting: bool = True):\n",
    "    '''\n",
    "        Print important bigrams and trigrams and the job description\n",
    "        0. Assemble stopword set\n",
    "        1. Tokenize Sentences\n",
    "        2. Remove sentences with particular words \n",
    "        3. Tokenize words from remaining sentences\n",
    "        4. Remove stopwords\n",
    "        5. Print collection of important bigrams and trigrams from remaining words\n",
    "        6. Print the entire job description\n",
    "        7. If we are sorting:\n",
    "            7a. Prompt user to determine whether it's a yes, a no, a job the user is \n",
    "                underqualified for, or other\n",
    "            7b. Depending on user's response append post index to appropriate list\n",
    "    ''' \n",
    "    stopset = set(stopwords.words('english') + word_tokenize(df['company'][posting_number].lower()))\n",
    "    sentences = sent_tokenize(df.description[posting_number])\n",
    "    sentences = [sentence for sentence in sentences if not [p for p in ['equal opportunity', 'not discriminate', 'diversity', 'affirmative action', 'gender', 'eoe'] if p  in sentence.lower()]]\n",
    "    words = [word for words in sentences for word in word_tokenize(words.lower()) if word not in stopset]\n",
    "    words = [word for word in words if (word.isalpha() or word.isnumeric()) and (len(word) < 2 or len(word) > 3)]\n",
    "    bcf = BigramCollocationFinder.from_words(words)\n",
    "    tcf = TrigramCollocationFinder.from_words(words)\n",
    "    # Print company and job title\n",
    "    print(df.company[posting_number])\n",
    "    print(df.title[posting_number])\n",
    "    print(\"Location:\", df.location[posting_number])\n",
    "    print()\n",
    "    # print bigrams\n",
    "    print('Bigrams')\n",
    "    print(set(bcf.nbest(BigramAssocMeasures.likelihood_ratio, n_results_per) + bcf.nbest(BigramAssocMeasures.raw_freq, n_results_per) + bcf.nbest(BigramAssocMeasures.chi_sq, n_results_per)))\n",
    "    print()\n",
    "    # Print Trigrams\n",
    "    print('Trigrams')\n",
    "    print(set(tcf.nbest(TrigramAssocMeasures.likelihood_ratio, n_results_per) + tcf.nbest(TrigramAssocMeasures.raw_freq, n_results_per) + tcf.nbest(TrigramAssocMeasures.chi_sq, n_results_per)))\n",
    "    print()\n",
    "    print(df.description[posting_number])\n",
    "    # If we are sorting them to train an algo\n",
    "    if sorting:\n",
    "        # If we are sorting through them\n",
    "        sort_jobs(df, posting_number)\n",
    "\n",
    "def process_jobs(df):\n",
    "    \"\"\"Clean up the frame for easy searching\"\"\"\n",
    "    # Columns to lower\n",
    "    df.columns = df.columns.str.lower()\n",
    "    # Strip \"\\n\", \"\\r\", \",\", \"/\"\n",
    "    for col in df.columns:\n",
    "        df[col] = df[col].str.replace('\\n', ' ').str.replace('\\r', ' ').str.replace('/', ' ').str.replace(',', ' ').str.replace('\\+', '')\n",
    "    df.description = df.description.str.replace(r\"([a-z])([A-Z])\", r\"\\1 \\.\\2\").str.replace(r' \\\\.', '')\n",
    "    df.posted = df.posted.str.lower().str.replace(r' day[a-z ]*', '')\n",
    "    df.posted[df.posted == 'today'] = '0'\n",
    "    df.posted = pd.to_numeric(df.posted)\n",
    "    return df\n"
   ]
  },
  {
   "source": [
    "## Import job post data frame"
   ],
   "cell_type": "markdown",
   "metadata": {}
  },
  {
   "cell_type": "code",
   "execution_count": 5,
   "metadata": {},
   "outputs": [
    {
     "output_type": "execute_result",
     "data": {
      "text/plain": [
       "6911"
      ]
     },
     "metadata": {},
     "execution_count": 5
    }
   ],
   "source": [
    "df_0 = pd.read_csv('data/2020-12-14_jobsmonster.tsv', sep=\"\\t\")\n",
    "df1 = df_0\n",
    "df1.columns = df1.columns.str.lower()\n",
    "df1.description = df1.description.str.replace('A/R', 'AR')\n",
    "for col in df1.columns:\n",
    "    if col != 'posted':\n",
    "        df1[col] = df1[col].str.replace('\\n', ' ').str.replace('\\r', ' ').str.replace('/', ' ').str.replace(',', ' ')\n",
    "\n",
    "df1.description = df1.description.str.replace(r\"([a-z])([A-Z])\", r\"\\1 \\.\\2\").str.replace(r' \\\\.', '')\n"
   ]
  },
  {
   "cell_type": "code",
   "execution_count": 206,
   "metadata": {},
   "outputs": [
    {
     "output_type": "execute_result",
     "data": {
      "text/plain": [
       "                      search_title   search_location           location  \\\n",
       "3918      entry level data analyst      Stamford  CT      Pago Pago  AS   \n",
       "4137                  data analyst      Stamford  CT       Edgewood  NY   \n",
       "3924      entry level data analyst      Stamford  CT      Hawthorne  NJ   \n",
       "3907  entry level business analyst      Stamford  CT      Riverside  MD   \n",
       "3193       associate data engineer  Philadelphia  PA     Wilmington  DE   \n",
       "...                            ...               ...                ...   \n",
       "4796       associate data engineer          New York         OSWEGO  NY   \n",
       "3158       associate data engineer  Philadelphia  PA     Wilmington  DE   \n",
       "5528       associate data engineer      Pennsylvania      Allentown  PA   \n",
       "3957      junior financial analyst      Stamford  CT         Dallas  TX   \n",
       "68            junior data engineer      New York  NY  New York City  NY   \n",
       "\n",
       "                                                  title  \\\n",
       "3918           Work from Home - Entry Level - Sales Rep   \n",
       "4137                 Client Success Analyst (JR1022200)   \n",
       "3924                            Architect  Jr Architect   \n",
       "3907                        Quality Control Jr. Chemist   \n",
       "3193  Consumer & Community Banking - Risk Strategy &...   \n",
       "...                                                 ...   \n",
       "4796          Associate Equipment Operator - Oswego  NY   \n",
       "3158  CIMD - Marcus by Goldman Sachs - Customer Acqu...   \n",
       "5528                     Associate Technical Consultant   \n",
       "3957                     Billings Analyst - Entry Level   \n",
       "68                                   Jr Copywriter Neon   \n",
       "\n",
       "                             company  posted                          salary  \\\n",
       "3918                Vector Marketing       0              No Salary Provided   \n",
       "4137  Broadridge Financial Solutions       0              No Salary Provided   \n",
       "3924            Company Confidential       0  Salary$35000 - $50000 Per Year   \n",
       "3907              C & A Service Inc.       0  Salary$48000 - $57000 Per Year   \n",
       "3193                  JPMorgan Chase       0              No Salary Provided   \n",
       "...                              ...     ...                             ...   \n",
       "4796                          Exelon      21              No Salary Provided   \n",
       "3158                   Goldman Sachs      21              No Salary Provided   \n",
       "5528                Perficient  Inc.      21              No Salary Provided   \n",
       "3957                            KIBO      21              No Salary Provided   \n",
       "68             Foote  Cone & Belding      21              No Salary Provided   \n",
       "\n",
       "                         summary  \\\n",
       "3918        No Job Type Provided   \n",
       "4137        No Job Type Provided   \n",
       "3924  Job Typefulltime  employee   \n",
       "3907  Job Typefulltime  employee   \n",
       "3193        No Job Type Provided   \n",
       "...                          ...   \n",
       "4796        No Job Type Provided   \n",
       "3158        No Job Type Provided   \n",
       "5528        No Job Type Provided   \n",
       "3957        No Job Type Provided   \n",
       "68          No Job Type Provided   \n",
       "\n",
       "                                                   link  \\\n",
       "3918  https:  job-openings.monster.com work-from-hom...   \n",
       "4137  https:  job-openings.monster.com client-succes...   \n",
       "3924  https:  job-openings.monster.com architect-jr-...   \n",
       "3907  https:  job-openings.monster.com quality-contr...   \n",
       "3193  https:  job-openings.monster.com consumer-comm...   \n",
       "...                                                 ...   \n",
       "4796  https:  job-openings.monster.com associate-equ...   \n",
       "3158  https:  job-openings.monster.com cimd-marcus-b...   \n",
       "5528  https:  job-openings.monster.com associate-tec...   \n",
       "3957  https:  job-openings.monster.com billings-anal...   \n",
       "68    https:  job-openings.monster.com jr-copywriter...   \n",
       "\n",
       "                                            description  \n",
       "3918                                                NaN  \n",
       "4137                                                NaN  \n",
       "3924                                                NaN  \n",
       "3907                                                NaN  \n",
       "3193                                                NaN  \n",
       "...                                                 ...  \n",
       "4796                                                NaN  \n",
       "3158                                                NaN  \n",
       "5528                                                NaN  \n",
       "3957                                                NaN  \n",
       "68    Reference # : 20-00973 Title : Master Data Ana...  \n",
       "\n",
       "[375 rows x 10 columns]"
      ],
      "text/html": "<div>\n<style scoped>\n    .dataframe tbody tr th:only-of-type {\n        vertical-align: middle;\n    }\n\n    .dataframe tbody tr th {\n        vertical-align: top;\n    }\n\n    .dataframe thead th {\n        text-align: right;\n    }\n</style>\n<table border=\"1\" class=\"dataframe\">\n  <thead>\n    <tr style=\"text-align: right;\">\n      <th></th>\n      <th>search_title</th>\n      <th>search_location</th>\n      <th>location</th>\n      <th>title</th>\n      <th>company</th>\n      <th>posted</th>\n      <th>salary</th>\n      <th>summary</th>\n      <th>link</th>\n      <th>description</th>\n    </tr>\n  </thead>\n  <tbody>\n    <tr>\n      <th>3918</th>\n      <td>entry level data analyst</td>\n      <td>Stamford  CT</td>\n      <td>Pago Pago  AS</td>\n      <td>Work from Home - Entry Level - Sales Rep</td>\n      <td>Vector Marketing</td>\n      <td>0</td>\n      <td>No Salary Provided</td>\n      <td>No Job Type Provided</td>\n      <td>https:  job-openings.monster.com work-from-hom...</td>\n      <td>NaN</td>\n    </tr>\n    <tr>\n      <th>4137</th>\n      <td>data analyst</td>\n      <td>Stamford  CT</td>\n      <td>Edgewood  NY</td>\n      <td>Client Success Analyst (JR1022200)</td>\n      <td>Broadridge Financial Solutions</td>\n      <td>0</td>\n      <td>No Salary Provided</td>\n      <td>No Job Type Provided</td>\n      <td>https:  job-openings.monster.com client-succes...</td>\n      <td>NaN</td>\n    </tr>\n    <tr>\n      <th>3924</th>\n      <td>entry level data analyst</td>\n      <td>Stamford  CT</td>\n      <td>Hawthorne  NJ</td>\n      <td>Architect  Jr Architect</td>\n      <td>Company Confidential</td>\n      <td>0</td>\n      <td>Salary$35000 - $50000 Per Year</td>\n      <td>Job Typefulltime  employee</td>\n      <td>https:  job-openings.monster.com architect-jr-...</td>\n      <td>NaN</td>\n    </tr>\n    <tr>\n      <th>3907</th>\n      <td>entry level business analyst</td>\n      <td>Stamford  CT</td>\n      <td>Riverside  MD</td>\n      <td>Quality Control Jr. Chemist</td>\n      <td>C &amp; A Service Inc.</td>\n      <td>0</td>\n      <td>Salary$48000 - $57000 Per Year</td>\n      <td>Job Typefulltime  employee</td>\n      <td>https:  job-openings.monster.com quality-contr...</td>\n      <td>NaN</td>\n    </tr>\n    <tr>\n      <th>3193</th>\n      <td>associate data engineer</td>\n      <td>Philadelphia  PA</td>\n      <td>Wilmington  DE</td>\n      <td>Consumer &amp; Community Banking - Risk Strategy &amp;...</td>\n      <td>JPMorgan Chase</td>\n      <td>0</td>\n      <td>No Salary Provided</td>\n      <td>No Job Type Provided</td>\n      <td>https:  job-openings.monster.com consumer-comm...</td>\n      <td>NaN</td>\n    </tr>\n    <tr>\n      <th>...</th>\n      <td>...</td>\n      <td>...</td>\n      <td>...</td>\n      <td>...</td>\n      <td>...</td>\n      <td>...</td>\n      <td>...</td>\n      <td>...</td>\n      <td>...</td>\n      <td>...</td>\n    </tr>\n    <tr>\n      <th>4796</th>\n      <td>associate data engineer</td>\n      <td>New York</td>\n      <td>OSWEGO  NY</td>\n      <td>Associate Equipment Operator - Oswego  NY</td>\n      <td>Exelon</td>\n      <td>21</td>\n      <td>No Salary Provided</td>\n      <td>No Job Type Provided</td>\n      <td>https:  job-openings.monster.com associate-equ...</td>\n      <td>NaN</td>\n    </tr>\n    <tr>\n      <th>3158</th>\n      <td>associate data engineer</td>\n      <td>Philadelphia  PA</td>\n      <td>Wilmington  DE</td>\n      <td>CIMD - Marcus by Goldman Sachs - Customer Acqu...</td>\n      <td>Goldman Sachs</td>\n      <td>21</td>\n      <td>No Salary Provided</td>\n      <td>No Job Type Provided</td>\n      <td>https:  job-openings.monster.com cimd-marcus-b...</td>\n      <td>NaN</td>\n    </tr>\n    <tr>\n      <th>5528</th>\n      <td>associate data engineer</td>\n      <td>Pennsylvania</td>\n      <td>Allentown  PA</td>\n      <td>Associate Technical Consultant</td>\n      <td>Perficient  Inc.</td>\n      <td>21</td>\n      <td>No Salary Provided</td>\n      <td>No Job Type Provided</td>\n      <td>https:  job-openings.monster.com associate-tec...</td>\n      <td>NaN</td>\n    </tr>\n    <tr>\n      <th>3957</th>\n      <td>junior financial analyst</td>\n      <td>Stamford  CT</td>\n      <td>Dallas  TX</td>\n      <td>Billings Analyst - Entry Level</td>\n      <td>KIBO</td>\n      <td>21</td>\n      <td>No Salary Provided</td>\n      <td>No Job Type Provided</td>\n      <td>https:  job-openings.monster.com billings-anal...</td>\n      <td>NaN</td>\n    </tr>\n    <tr>\n      <th>68</th>\n      <td>junior data engineer</td>\n      <td>New York  NY</td>\n      <td>New York City  NY</td>\n      <td>Jr Copywriter Neon</td>\n      <td>Foote  Cone &amp; Belding</td>\n      <td>21</td>\n      <td>No Salary Provided</td>\n      <td>No Job Type Provided</td>\n      <td>https:  job-openings.monster.com jr-copywriter...</td>\n      <td>Reference # : 20-00973 Title : Master Data Ana...</td>\n    </tr>\n  </tbody>\n</table>\n<p>375 rows × 10 columns</p>\n</div>"
     },
     "metadata": {},
     "execution_count": 206
    }
   ],
   "source": [
    "df = df1.drop(yes)\n",
    "df = df.drop(no)\n",
    "df = df.drop(other)\n",
    "df = df.drop(underqualified)\n",
    "df[\n",
    "  # df.description.str.lower().str.contains('scrap')\n",
    "    # ~df.salary.str.lower().str.contains('no')\n",
    "    # df.description.str.lower().str.contains('math')\n",
    "    #  (\n",
    "    #     df.description.str.lower().str.contains('python') \n",
    "    #    | df.description.str.lower().str.contains(' r ')\n",
    "    #  )\n",
    "    #  df.description.str.lower().str.contains('sql')\n",
    "    # & df.description.str.lower().str.contains('')\n",
    "    # & ~df.company.str.lower().str.contains('jpm')\n",
    "     (\n",
    "        df.title.str.lower().str.contains('assoc') \n",
    "      | df.title.str.lower().str.contains('junior')\n",
    "      | df.title.str.lower().str.contains('jr')\n",
    "      | df.title.str.lower().str.contains('entry')\n",
    "      )\n",
    "    & ~(\n",
    "        df.title.str.lower().str.contains('lead')\n",
    "      | df.title.str.lower().str.contains('manager')\n",
    "      | df.title.str.lower().str.contains('vp')\n",
    "      | df.title.str.lower().str.contains('vice')\n",
    "      | df.title.str.lower().str.contains('senior')\n",
    "      | df.title.str.lower().str.contains('sr')\n",
    "      | df.title.str.lower().str.contains('principal')\n",
    "      )\n",
    "    # & ~(\n",
    "    #   df.location.str.contains('DE')\n",
    "    #   | df.location.str.contains('NH')\n",
    "    #   | df.location.str.contains('PA')\n",
    "    # )\n",
    "    & (df['posted'] < 22)\n",
    "].sort_values('posted')\n",
    "# df1.sort_values('posted')"
   ]
  },
  {
   "cell_type": "code",
   "execution_count": 190,
   "metadata": {
    "tags": []
   },
   "outputs": [
    {
     "output_type": "stream",
     "name": "stdout",
     "text": [
      "The Aegis Technologies Group  Inc.\n",
      "Engineering & Analysis (Junior to Mid-Level) at The Aegis Technologies Group  Inc.  \n",
      "Location: Huntsville  AL 35806\n",
      "\n",
      "Bigrams\n",
      "{('begin', 'developing'), ('adapt', 'work'), ('missile', 'defense'), ('data', 'analysis'), ('back', 'original'), ('leading', 'transformation'), ('test', 'cases'), ('applications', 'experience'), ('ability', 'work'), ('across', 'space'), ('actively', 'taking'), ('activities', 'begin'), ('also', 'perform'), ('analyst', 'professionals'), ('1989', 'served'), ('become', 'familiar')}\n",
      "\n",
      "Trigrams\n",
      "{('transformation', 'modern', 'warfare'), ('leading', 'transformation', 'tomorrow'), ('analysis', 'activities', 'begin'), ('advanced', 'engineering', 'solutions'), ('become', 'familiar', 'groups'), ('analysis', 'execution', 'excellent'), ('adapt', 'work', 'schedule'), ('case', 'description', 'document'), ('missile', 'defense', 'electronic'), ('across', 'space', 'superiority'), ('develop', 'test', 'cases'), ('analyst', 'professionals', 'processing'), ('back', 'original', 'input'), ('ability', 'work', 'part'), ('activities', 'begin', 'developing'), ('transformation', 'tomorrow', 'warfare'), ('challenges', 'life', 'cycle'), ('provider', 'leading', 'transformation'), ('actively', 'taking', 'lead'), ('1989', 'served', 'core'), ('ballistic', 'missile', 'defense'), ('energy', 'missile', 'defense'), ('also', 'perform', 'checkout'), ('applications', 'experience', 'unix'), ('leading', 'transformation', 'modern'), ('warfare', 'leading', 'transformation')}\n",
      "\n",
      "The qualified candidate will work with a team of software engineer  developer and system analyst professionals in processing Ballistic Missile Defense System (BMDS) scenario information and data (i.e. Test Case Description Document (TCDD)  threat data  Radar Cross Section (RCS) data  Plume and Infrared (IR) data  etc) used to develop test cases to support BMDS interoperability and performance test and checkout using Hardware-in-the-Loop (HWIL) and Digital Simulations.    The candidate will also perform checkout and analysis of products prior to delivery to the customer to ensure test cases meet specified requirements and correlates back to the original input data. Candidate must have a willingness to adapt work schedule to tight event time-lines as necessary.  30 days Become familiar with the groups work-flow and train on existing tools. 60 days Contribute to the analysis activities and begin developing analysis tools for the Objective Simulation Framework 90 days Actively taking a lead role in analysis and OSF execution. Excellent written and oral communication skills and the ability to work as part of a team. Familiarity with using computers for data analysis Familiarity with Microsoft Office applications Experience with UNIX Linux 1-6 yrs Bachelors in an engineering  mathematics  physics  or other technically related data analysis field. AEgis Technologies  a BlueHalo company  provides advanced engineering solutions across the space superiority  directed energy  missile defense  electronic warfare & cyber  C4ISR  and intelligence markets. The Company was founded in 1989 and has served its core customer base as a trusted partner for decades focused on solving the Defense and National Security Community’s hardest challenges. AEgis is an end to end life cycle partner through R&D  development  and into operations. We are the trusted provider leading the transformation for tomorrow’s multi-modal and multi-domain warfare. AEgis Technologies – Leading the Transformation of Modern Warfare.\n",
      "https://www.monster.com/jobs/search/?q=Data-Scientist&jobid=acf98719-a6b4-4fcb-aabd-dd743a3119c6\n"
     ]
    }
   ],
   "source": [
    "\"\"\"\n",
    "If we put together a list of posts to go through:\n",
    "    1. Clear previous output\n",
    "    2. Show the post info and sort the job\n",
    "\"\"\"\n",
    "for post in sl:\n",
    "    clear_output()\n",
    "    job_post_info(post)\n"
   ]
  },
  {
   "cell_type": "code",
   "execution_count": 230,
   "metadata": {},
   "outputs": [
    {
     "output_type": "stream",
     "name": "stdout",
     "text": [
      "yes: 7\nno: 2\nunderqualified: 14\n"
     ]
    }
   ],
   "source": [
    "print(\"yes:\", len(yes))\n",
    "print(\"no:\", len(no))\n",
    "print(\"underqualified:\", len(underqualified))"
   ]
  },
  {
   "cell_type": "code",
   "execution_count": 231,
   "metadata": {},
   "outputs": [],
   "source": [
    "# When you're finished sorting, uncomment the below and save the classified data\n",
    "our_columns = ['company', 'title', 'description']\n",
    "df_0.loc[yes, our_columns].to_csv('data/yes.tsv', sep='\\t', index=False, header=False, mode = 'a')\n",
    "df_0.loc[no, our_columns].to_csv('data/no.tsv', sep='\\t', index=False, header=False, mode = 'a')\n",
    "df_0.loc[underqualified, our_columns].to_csv('data/underqualified.tsv', sep='\\t', index=False, header=False, mode='a')"
   ]
  }
 ]
}